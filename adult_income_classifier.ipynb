{
 "cells": [
  {
   "cell_type": "code",
   "execution_count": 10,
   "metadata": {
    "collapsed": true
   },
   "outputs": [],
   "source": [
    "import sklearn\n",
    "import numpy as np\n",
    "import pandas as pd"
   ]
  },
  {
   "cell_type": "markdown",
   "metadata": {},
   "source": [
    "Importing dataset"
   ]
  },
  {
   "cell_type": "code",
   "execution_count": 15,
   "metadata": {},
   "outputs": [
    {
     "name": "stdout",
     "output_type": "stream",
     "text": [
      "   age         workclass  fnlwgt  education  education-num  \\\n0    2         State-gov   77516  Bachelors             13   \n1    3  Self-emp-not-inc   83311  Bachelors             13   \n2    2           Private  215646    HS-grad              9   \n3    3           Private  234721       11th              7   \n4    1           Private  338409  Bachelors             13   \n5    2           Private  284582    Masters             14   \n6    3           Private  160187        9th              5   \n7    3  Self-emp-not-inc  209642    HS-grad              9   \n8    1           Private   45781    Masters             14   \n9    2           Private  159449  Bachelors             13   \n\n          marital-status         occupation   relationship   race     sex  \\\n0          Never-married       Adm-clerical  Not-in-family  White    Male   \n1     Married-civ-spouse    Exec-managerial        Husband  White    Male   \n2               Divorced  Handlers-cleaners  Not-in-family  White    Male   \n3     Married-civ-spouse  Handlers-cleaners        Husband  Black    Male   \n4     Married-civ-spouse     Prof-specialty           Wife  Black  Female   \n5     Married-civ-spouse    Exec-managerial           Wife  White  Female   \n6  Married-spouse-absent      Other-service  Not-in-family  Black  Female   \n7     Married-civ-spouse    Exec-managerial        Husband  White    Male   \n8          Never-married     Prof-specialty  Not-in-family  White  Female   \n9     Married-civ-spouse    Exec-managerial        Husband  White    Male   \n\n   capitalgain  capitalloss  hoursperweek native-country  class  \n0            1            0             2  United-States  <=50K  \n1            0            0             0  United-States  <=50K  \n2            0            0             2  United-States  <=50K  \n3            0            0             2  United-States  <=50K  \n4            0            0             2           Cuba  <=50K  \n5            0            0             2  United-States  <=50K  \n6            0            0             0        Jamaica  <=50K  \n7            0            0             2  United-States   >50K  \n8            4            0             3  United-States   >50K  \n9            2            0             2  United-States   >50K  \n"
     ]
    }
   ],
   "source": [
    "dataset_raw = pd.read_csv(\"dataset_183_adult.csv\",header=0)\n",
    "print(dataset_raw.head(10))"
   ]
  },
  {
   "cell_type": "markdown",
   "metadata": {},
   "source": [
    "Exploring unique values in dataset"
   ]
  },
  {
   "cell_type": "code",
   "execution_count": 30,
   "metadata": {},
   "outputs": [
    {
     "name": "stdout",
     "output_type": "stream",
     "text": [
      "Column: age\nNumber of unique values: 5\n[2 3 1 0 4]\n\n\nColumn: workclass\nNumber of unique values: 9\n['State-gov' 'Self-emp-not-inc' 'Private' 'Federal-gov' 'Local-gov' '?'\n 'Self-emp-inc' 'Without-pay' 'Never-worked']\n\n\nColumn: fnlwgt\nNumber of unique values: 28523\n[ 77516  83311 215646 ... 173449  89686 350977]\n\n\nColumn: education\nNumber of unique values: 16\n['Bachelors' 'HS-grad' '11th' 'Masters' '9th' 'Some-college' 'Assoc-acdm'\n 'Assoc-voc' '7th-8th' 'Doctorate' 'Prof-school' '5th-6th' '10th'\n '1st-4th' 'Preschool' '12th']\n\n\nColumn: education-num\nNumber of unique values: 16\n[13  9  7 14  5 10 12 11  4 16 15  3  6  2  1  8]\n\n\nColumn: marital-status\nNumber of unique values: 7\n['Never-married' 'Married-civ-spouse' 'Divorced' 'Married-spouse-absent'\n 'Separated' 'Married-AF-spouse' 'Widowed']\n\n\nColumn: occupation\nNumber of unique values: 15\n['Adm-clerical' 'Exec-managerial' 'Handlers-cleaners' 'Prof-specialty'\n 'Other-service' 'Sales' 'Craft-repair' 'Transport-moving'\n 'Farming-fishing' 'Machine-op-inspct' 'Tech-support' '?'\n 'Protective-serv' 'Armed-Forces' 'Priv-house-serv']\n\n\nColumn: relationship\nNumber of unique values: 6\n['Not-in-family' 'Husband' 'Wife' 'Own-child' 'Unmarried' 'Other-relative']\n\n\nColumn: race\nNumber of unique values: 5\n['White' 'Black' 'Asian-Pac-Islander' 'Amer-Indian-Eskimo' 'Other']\n\n\nColumn: sex\nNumber of unique values: 2\n['Male' 'Female']\n\n\nColumn: capitalgain\nNumber of unique values: 5\n[1 0 4 2 3]\n\n\nColumn: capitalloss\nNumber of unique values: 5\n[0 3 1 2 4]\n\n\nColumn: hoursperweek\nNumber of unique values: 5\n[2 0 3 4 1]\n\n\nColumn: native-country\nNumber of unique values: 42\n['United-States' 'Cuba' 'Jamaica' 'India' '?' 'Mexico' 'South'\n 'Puerto-Rico' 'Honduras' 'England' 'Canada' 'Germany' 'Iran'\n 'Philippines' 'Italy' 'Poland' 'Columbia' 'Cambodia' 'Thailand' 'Ecuador'\n 'Laos' 'Taiwan' 'Haiti' 'Portugal' 'Dominican-Republic' 'El-Salvador'\n 'France' 'Guatemala' 'China' 'Japan' 'Yugoslavia' 'Peru'\n 'Outlying-US(Guam-USVI-etc)' 'Scotland' 'Trinadad&Tobago' 'Greece'\n 'Nicaragua' 'Vietnam' 'Hong' 'Ireland' 'Hungary' 'Holand-Netherlands']\n\n\nColumn: class\nNumber of unique values: 2\n['<=50K' '>50K']\n\n\n"
     ]
    }
   ],
   "source": [
    "for col in dataset_raw.columns:\n",
    "    print(\"Column: \" + col)\n",
    "    print(\"Number of unique values: \" + str(pd.unique(dataset_raw[col]).shape[0]))\n",
    "    print(pd.unique(dataset_raw[col]))\n",
    "    print(\"\\n\")"
   ]
  },
  {
   "cell_type": "markdown",
   "metadata": {},
   "source": [
    "Since the dataset has mostly categorical data we will need to factorize them. \n",
    "On the other hand fnlwgt is a continuous number, so depending on the algorithm we are using we will need to normalize using either z-score or min-max"
   ]
  },
  {
   "cell_type": "markdown",
   "metadata": {},
   "source": [
    "Factorizing the categorical data"
   ]
  },
  {
   "cell_type": "code",
   "execution_count": null,
   "metadata": {},
   "outputs": [],
   "source": [
    ""
   ]
  }
 ],
 "metadata": {
  "kernelspec": {
   "display_name": "Python 2",
   "language": "python",
   "name": "python2"
  },
  "language_info": {
   "codemirror_mode": {
    "name": "ipython",
    "version": 2.0
   },
   "file_extension": ".py",
   "mimetype": "text/x-python",
   "name": "python",
   "nbconvert_exporter": "python",
   "pygments_lexer": "ipython2",
   "version": "2.7.6"
  }
 },
 "nbformat": 4,
 "nbformat_minor": 0
}